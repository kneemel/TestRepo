{
 "cells": [
  {
   "cell_type": "markdown",
   "id": "0c889506-ea4e-43a9-ab15-ff420ffc610f",
   "metadata": {},
   "source": [
    "# Data Science Tools and Ecosystem"
   ]
  },
  {
   "cell_type": "markdown",
   "id": "c37d1003-a438-4296-a6e3-afd021da9f24",
   "metadata": {},
   "source": [
    "In this notebook, Data Science Tools and Ecosystem are summarized."
   ]
  },
  {
   "cell_type": "markdown",
   "id": "946f65bf-528f-4bfa-acf4-43eb7288e4d8",
   "metadata": {},
   "source": [
    "**Objectives**\n",
    "* List popular languages for Data Sciences\n",
    "* List common libraries Data Science\n",
    "* List Tools for Data Science\n",
    "* Examples of arithmatic for Data Science "
   ]
  },
  {
   "cell_type": "markdown",
   "id": "42f6cee9-d3b2-4d4f-8da3-af016d3f9533",
   "metadata": {},
   "source": [
    "Some of the popular languages that Data Scientists use are:\n",
    "1. Java\n",
    "2. Scala\n",
    "3. C++\n",
    "4. JavaScript\n",
    "5. Julia"
   ]
  },
  {
   "cell_type": "markdown",
   "id": "e93b5734-4150-4456-a6d8-2ea8d91e1c30",
   "metadata": {},
   "source": [
    "Some of the commonly used libraries used by Data Scientists include:\n",
    "1. Pandas\n",
    "2. Numpy\n",
    "3. Matplotlib\n",
    "4. Seaborn\n",
    "5. Scikit-learn\n",
    "6. Keras"
   ]
  },
  {
   "cell_type": "markdown",
   "id": "e46a4816-2a63-4a84-9e5d-9700ae11061d",
   "metadata": {},
   "source": [
    "| Data Science Tools |\n",
    "| -------------|\n",
    "| Jupyter Notebook |\n",
    "| RStudio |\n",
    "| KNIME |"
   ]
  },
  {
   "cell_type": "markdown",
   "id": "0a778108-835d-4c4d-b6f0-9237413d3edc",
   "metadata": {},
   "source": [
    "### Below are a few examples of evaluating arithmatic expressions in Python"
   ]
  },
  {
   "cell_type": "code",
   "execution_count": 1,
   "id": "1a62f6b2-2770-4952-ba5e-5ce3bbfb73ce",
   "metadata": {},
   "outputs": [
    {
     "data": {
      "text/plain": [
       "17"
      ]
     },
     "execution_count": 1,
     "metadata": {},
     "output_type": "execute_result"
    }
   ],
   "source": [
    "# This is a simple arithmatic expression to multiply then add integers\n",
    "\n",
    "(3*4)+5"
   ]
  },
  {
   "cell_type": "code",
   "execution_count": 3,
   "id": "ce37243f-203e-4fcd-9875-37ae766e8856",
   "metadata": {},
   "outputs": [
    {
     "name": "stdout",
     "output_type": "stream",
     "text": [
      "200 minutes is equal to 3 hours and 20 minutes.\n"
     ]
    }
   ],
   "source": [
    "# This will convert 200 minutes to hours by dividing by 60\n",
    "\n",
    "minutes = 200\n",
    "hours = minutes // 60\n",
    "remaining_minutes = minutes % 60\n",
    "\n",
    "print(f\"{minutes} minutes is equal to {hours} hours and {remaining_minutes} minutes.\")"
   ]
  },
  {
   "cell_type": "markdown",
   "id": "ce193e4a-2668-48e2-82df-671c61da7c2c",
   "metadata": {},
   "source": [
    "## Author\n",
    "Lachlan Neame"
   ]
  }
 ],
 "metadata": {
  "kernelspec": {
   "display_name": "Python 3 (ipykernel)",
   "language": "python",
   "name": "python3"
  },
  "language_info": {
   "codemirror_mode": {
    "name": "ipython",
    "version": 3
   },
   "file_extension": ".py",
   "mimetype": "text/x-python",
   "name": "python",
   "nbconvert_exporter": "python",
   "pygments_lexer": "ipython3",
   "version": "3.8.2"
  }
 },
 "nbformat": 4,
 "nbformat_minor": 5
}
